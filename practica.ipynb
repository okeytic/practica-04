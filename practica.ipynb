
{
 "cells": [
  {
   "cell_type": "markdown",
   "metadata": {
    "collapsed": false
   },
   "source": [
    "<h1 style=\"text-align:center;\">\n",
    "    Practica 04 \n",
    "</h1>\n",
    "<h2 style=\"text-align:center;\">\n",
    "    Ejericio 1\n",
    "</h2>\n",
    "<h3 style=\"text-align:center;\">\n",
    "   Alumno: TORREJON BURGOS JESUS ARQUIMEDES\n",
    "</h3>"
   ]
  },
  {
   "cell_type": "code",
   "execution_count": 14,
   "metadata": {
    "collapsed": false
   },
   "outputs": [
   ],
   "source": [
    "#Code cell 1\n",
    "#import pandas\n",
    "import pandas as pd\n",
    "import numpy as np\n",
    "import matplotlib as plt\n",
    "import matplotlib.pyplot as plt\n"
   ]
  },
  {
   "cell_type": "code",
   "execution_count": 15,
   "metadata": {
    "collapsed": false
   },
   "outputs": [
   ],
   "source": [
    "#create a pandas dataframe called \"training\" from the titanic-train.csv file\n",
    "Baske = pd.read_csv('basketball.csv')"
   ]
  },
  {
   "cell_type": "code",
   "execution_count": 16,
   "metadata": {
    "collapsed": false
   },
   "outputs": [
    {
     "data": {
      "text/html": [
       "<div>\n",
       "<style scoped>\n",
       "    .dataframe tbody tr th:only-of-type {\n",
       "        vertical-align: middle;\n",
       "    }\n",
       "\n",
       "    .dataframe tbody tr th {\n",
       "        vertical-align: top;\n",
       "    }\n",
       "\n",
       "    .dataframe thead th {\n",
       "        text-align: right;\n",
       "    }\n",
       "</style>\n",
       "<table border=\"1\" class=\"dataframe\">\n",
       "  <thead>\n",
       "    <tr style=\"text-align: right;\">\n",
       "      <th></th>\n",
       "      <th>height</th>\n",
       "      <th>weight</th>\n",
       "      <th>success_field_goals</th>\n",
       "      <th>success_free_throws</th>\n",
       "      <th>avg_points_scored</th>\n",
       "    </tr>\n",
       "  </thead>\n",
       "  <tbody>\n",
       "    <tr>\n",
       "      <th>0</th>\n",
       "      <td>6.8</td>\n",
       "      <td>225</td>\n",
       "      <td>0.442</td>\n",
       "      <td>0.672</td>\n",
       "      <td>9.2</td>\n",
       "    </tr>\n",
       "    <tr>\n",
       "      <th>1</th>\n",
       "      <td>6.3</td>\n",
       "      <td>180</td>\n",
       "      <td>0.435</td>\n",
       "      <td>0.797</td>\n",
       "      <td>11.7</td>\n",
       "    </tr>\n",
       "    <tr>\n",
       "      <th>2</th>\n",
       "      <td>6.4</td>\n",
       "      <td>190</td>\n",
       "      <td>0.456</td>\n",
       "      <td>0.761</td>\n",
       "      <td>15.8</td>\n",
       "    </tr>\n",
       "    <tr>\n",
       "      <th>3</th>\n",
       "      <td>6.2</td>\n",
       "      <td>180</td>\n",
       "      <td>0.416</td>\n",
       "      <td>0.651</td>\n",
       "      <td>8.6</td>\n",
       "    </tr>\n",
       "    <tr>\n",
       "      <th>4</th>\n",
       "      <td>6.9</td>\n",
       "      <td>205</td>\n",
       "      <td>0.449</td>\n",
       "      <td>0.900</td>\n",
       "      <td>23.2</td>\n",
       "    </tr>\n",
       "  </tbody>\n",
       "</table>\n",
       "</div>"
      ],
      "text/plain": [
       "   height  weight  success_field_goals  success_free_throws  avg_points_scored\n",
       "0     6.8     225                0.442                0.672                9.2\n",
       "1     6.3     180                0.435                0.797               11.7\n",
       "2     6.4     190                0.456                0.761               15.8\n",
       "3     6.2     180                0.416                0.651                8.6\n",
       "4     6.9     205                0.449                0.900               23.2"
      ]
     },
     "execution_count": 16,
     "metadata": {
     },
     "output_type": "execute_result"
    }
   ],
   "source": [
    "# Muestra información del contenido del dataframe de pandas\n",
    "Baske.head(5)"
   ]
  },
  {
   "cell_type": "code",
   "execution_count": 17,
   "metadata": {
    "collapsed": false
   },
   "outputs": [
    {
     "data": {
      "text/html": [
       "<div>\n",
       "<style scoped>\n",
       "    .dataframe tbody tr th:only-of-type {\n",
       "        vertical-align: middle;\n",
       "    }\n",
       "\n",
       "    .dataframe tbody tr th {\n",
       "        vertical-align: top;\n",
       "    }\n",
       "\n",
       "    .dataframe thead th {\n",
       "        text-align: right;\n",
       "    }\n",
       "</style>\n",
       "<table border=\"1\" class=\"dataframe\">\n",
       "  <thead>\n",
       "    <tr style=\"text-align: right;\">\n",
       "      <th></th>\n",
       "      <th>AlturaPies</th>\n",
       "      <th>PesoLibras</th>\n",
       "      <th>TirosCampoExito</th>\n",
       "      <th>TirosLibreExito</th>\n",
       "      <th>PromedioAnotadosJuego</th>\n",
       "    </tr>\n",
       "  </thead>\n",
       "  <tbody>\n",
       "    <tr>\n",
       "      <th>0</th>\n",
       "      <td>6.8</td>\n",
       "      <td>225</td>\n",
       "      <td>0.442</td>\n",
       "      <td>0.672</td>\n",
       "      <td>9.2</td>\n",
       "    </tr>\n",
       "    <tr>\n",
       "      <th>1</th>\n",
       "      <td>6.3</td>\n",
       "      <td>180</td>\n",
       "      <td>0.435</td>\n",
       "      <td>0.797</td>\n",
       "      <td>11.7</td>\n",
       "    </tr>\n",
       "    <tr>\n",
       "      <th>2</th>\n",
       "      <td>6.4</td>\n",
       "      <td>190</td>\n",
       "      <td>0.456</td>\n",
       "      <td>0.761</td>\n",
       "      <td>15.8</td>\n",
       "    </tr>\n",
       "    <tr>\n",
       "      <th>3</th>\n",
       "      <td>6.2</td>\n",
       "      <td>180</td>\n",
       "      <td>0.416</td>\n",
       "      <td>0.651</td>\n",
       "      <td>8.6</td>\n",
       "    </tr>\n",
       "    <tr>\n",
       "      <th>4</th>\n",
       "      <td>6.9</td>\n",
       "      <td>205</td>\n",
       "      <td>0.449</td>\n",
       "      <td>0.900</td>\n",
       "      <td>23.2</td>\n",
       "    </tr>\n",
       "  </tbody>\n",
       "</table>\n",
       "</div>"
      ],
      "text/plain": [
       "   AlturaPies  PesoLibras  TirosCampoExito  TirosLibreExito  \\\n",
       "0         6.8         225            0.442            0.672   \n",
       "1         6.3         180            0.435            0.797   \n",
       "2         6.4         190            0.456            0.761   \n",
       "3         6.2         180            0.416            0.651   \n",
       "4         6.9         205            0.449            0.900   \n",
       "\n",
       "   PromedioAnotadosJuego  \n",
       "0                    9.2  \n",
       "1                   11.7  \n",
       "2                   15.8  \n",
       "3                    8.6  \n",
       "4                   23.2  "
      ]
     },
     "execution_count": 17,
     "metadata": {
     },
     "output_type": "execute_result"
    }
   ],
   "source": [
    "# Renombrar las columnas\n",
    "Baske = Baske.rename(columns={'height':'AlturaPies','weight':'PesoLibras','success_field_goals':'TirosCampoExito','success_free_throws':'TirosLibreExito','avg_points_scored':'PromedioAnotadosJuego'})\n",
    "Baske.head(5)"
   ]
  },
  {
   "cell_type": "code",
   "execution_count": 18,
   "metadata": {
    "collapsed": false
   },
   "outputs": [
   ],
   "source": [
    "maximo=Baske['TirosCampoExito'].max()"
   ]
  },
  {
   "cell_type": "code",
   "execution_count": 19,
   "metadata": {
    "collapsed": false
   },
   "outputs": [
   ],
   "source": [
    "minimo=Baske['TirosCampoExito'].min()"
   ]
  },
  {
   "cell_type": "code",
   "execution_count": 20,
   "metadata": {
    "collapsed": false
   },
   "outputs": [
    {
     "data": {
      "text/plain": [
       "0.29100000000000004"
      ]
     },
     "execution_count": 20,
     "metadata": {
     },
     "output_type": "execute_result"
    }
   ],
   "source": [
    "minimo"
   ]
  },
  {
   "cell_type": "code",
   "execution_count": 21,
   "metadata": {
    "collapsed": false
   },
   "outputs": [
    {
     "data": {
      "text/html": [
       "<div>\n",
       "<style scoped>\n",
       "    .dataframe tbody tr th:only-of-type {\n",
       "        vertical-align: middle;\n",
       "    }\n",
       "\n",
       "    .dataframe tbody tr th {\n",
       "        vertical-align: top;\n",
       "    }\n",
       "\n",
       "    .dataframe thead th {\n",
       "        text-align: right;\n",
       "    }\n",
       "</style>\n",
       "<table border=\"1\" class=\"dataframe\">\n",
       "  <thead>\n",
       "    <tr style=\"text-align: right;\">\n",
       "      <th></th>\n",
       "      <th>AlturaPies</th>\n",
       "      <th>PesoLibras</th>\n",
       "      <th>TirosCampoExito</th>\n",
       "      <th>TirosLibreExito</th>\n",
       "      <th>PromedioAnotadosJuego</th>\n",
       "    </tr>\n",
       "  </thead>\n",
       "  <tbody>\n",
       "    <tr>\n",
       "      <th>count</th>\n",
       "      <td>54.000000</td>\n",
       "      <td>54.000000</td>\n",
       "      <td>54.000000</td>\n",
       "      <td>54.000000</td>\n",
       "      <td>54.000000</td>\n",
       "    </tr>\n",
       "    <tr>\n",
       "      <th>mean</th>\n",
       "      <td>6.587037</td>\n",
       "      <td>209.907407</td>\n",
       "      <td>0.449111</td>\n",
       "      <td>0.741852</td>\n",
       "      <td>11.790741</td>\n",
       "    </tr>\n",
       "    <tr>\n",
       "      <th>std</th>\n",
       "      <td>0.458894</td>\n",
       "      <td>30.265036</td>\n",
       "      <td>0.056551</td>\n",
       "      <td>0.100146</td>\n",
       "      <td>5.899257</td>\n",
       "    </tr>\n",
       "    <tr>\n",
       "      <th>min</th>\n",
       "      <td>5.700000</td>\n",
       "      <td>105.000000</td>\n",
       "      <td>0.291000</td>\n",
       "      <td>0.244000</td>\n",
       "      <td>2.800000</td>\n",
       "    </tr>\n",
       "    <tr>\n",
       "      <th>25%</th>\n",
       "      <td>6.225000</td>\n",
       "      <td>185.000000</td>\n",
       "      <td>0.415250</td>\n",
       "      <td>0.713000</td>\n",
       "      <td>8.150000</td>\n",
       "    </tr>\n",
       "    <tr>\n",
       "      <th>50%</th>\n",
       "      <td>6.650000</td>\n",
       "      <td>212.500000</td>\n",
       "      <td>0.443500</td>\n",
       "      <td>0.753500</td>\n",
       "      <td>10.750000</td>\n",
       "    </tr>\n",
       "    <tr>\n",
       "      <th>75%</th>\n",
       "      <td>6.900000</td>\n",
       "      <td>235.000000</td>\n",
       "      <td>0.483500</td>\n",
       "      <td>0.795250</td>\n",
       "      <td>13.600000</td>\n",
       "    </tr>\n",
       "    <tr>\n",
       "      <th>max</th>\n",
       "      <td>7.600000</td>\n",
       "      <td>263.000000</td>\n",
       "      <td>0.599000</td>\n",
       "      <td>0.900000</td>\n",
       "      <td>27.400000</td>\n",
       "    </tr>\n",
       "  </tbody>\n",
       "</table>\n",
       "</div>"
      ],
      "text/plain": [
       "       AlturaPies  PesoLibras  TirosCampoExito  TirosLibreExito  \\\n",
       "count   54.000000   54.000000        54.000000        54.000000   \n",
       "mean     6.587037  209.907407         0.449111         0.741852   \n",
       "std      0.458894   30.265036         0.056551         0.100146   \n",
       "min      5.700000  105.000000         0.291000         0.244000   \n",
       "25%      6.225000  185.000000         0.415250         0.713000   \n",
       "50%      6.650000  212.500000         0.443500         0.753500   \n",
       "75%      6.900000  235.000000         0.483500         0.795250   \n",
       "max      7.600000  263.000000         0.599000         0.900000   \n",
       "\n",
       "       PromedioAnotadosJuego  \n",
       "count              54.000000  \n",
       "mean               11.790741  \n",
       "std                 5.899257  \n",
       "min                 2.800000  \n",
       "25%                 8.150000  \n",
       "50%                10.750000  \n",
       "75%                13.600000  \n",
       "max                27.400000  "
      ]
     },
     "execution_count": 21,
     "metadata": {
     },
     "output_type": "execute_result"
    }
   ],
   "source": [
    "Baske.describe()"
   ]
  },
  {
   "cell_type": "code",
   "execution_count": 22,
   "metadata": {
    "collapsed": false
   },
   "outputs": [
   ],
   "source": [
    "%matplotlib inline"
   ]
  },
  {
   "cell_type": "code",
   "execution_count": 38,
   "metadata": {
    "collapsed": false
   },
   "outputs": [
    {
     "data": {
      "text/plain": [
       "[<matplotlib.lines.Line2D at 0x7f7389968ac8>]"
      ]
     },
     "execution_count": 38,
     "metadata": {
     },
     "output_type": "execute_result"
    },
    {
     "data": {
      "image/png": "[encoded data removed]",
      "text/plain": [
       "<Figure size 432x288 with 1 Axes>"
      ]
     },
     "execution_count": 38,
     "metadata": {
      "image/png": {
       "height": 248,
       "width": 369
      }
     },
     "output_type": "execute_result"
    }
   ],
   "source": [
    "plt.plot(Baske['TirosCampoExito'],Baske['PromedioAnotadosJuego'],'o')"
   ]
  },
  {
   "cell_type": "code",
   "execution_count": 48,
   "metadata": {
    "collapsed": false
   },
   "outputs": [
   ],
   "source": [
    "Baske2=Baske.drop(columns=['AlturaPies'])"
   ]
  },
  {
   "cell_type": "code",
   "execution_count": 49,
   "metadata": {
    "collapsed": false
   },
   "outputs": [
   ],
   "source": [
    "Baske2=Baske.drop(columns=['PesoLibras'])"
   ]
  },
  {
   "cell_type": "code",
   "execution_count": 50,
   "metadata": {
    "collapsed": false
   },
   "outputs": [
    {
     "data": {
      "text/html": [
       "<div>\n",
       "<style scoped>\n",
       "    .dataframe tbody tr th:only-of-type {\n",
       "        vertical-align: middle;\n",
       "    }\n",
       "\n",
       "    .dataframe tbody tr th {\n",
       "        vertical-align: top;\n",
       "    }\n",
       "\n",
       "    .dataframe thead th {\n",
       "        text-align: right;\n",
       "    }\n",
       "</style>\n",
       "<table border=\"1\" class=\"dataframe\">\n",
       "  <thead>\n",
       "    <tr style=\"text-align: right;\">\n",
       "      <th></th>\n",
       "      <th>AlturaPies</th>\n",
       "      <th>TirosCampoExito</th>\n",
       "      <th>TirosLibreExito</th>\n",
       "      <th>PromedioAnotadosJuego</th>\n",
       "    </tr>\n",
       "  </thead>\n",
       "  <tbody>\n",
       "    <tr>\n",
       "      <th>0</th>\n",
       "      <td>6.8</td>\n",
       "      <td>0.442</td>\n",
       "      <td>0.672</td>\n",
       "      <td>9.2</td>\n",
       "    </tr>\n",
       "    <tr>\n",
       "      <th>1</th>\n",
       "      <td>6.3</td>\n",
       "      <td>0.435</td>\n",
       "      <td>0.797</td>\n",
       "      <td>11.7</td>\n",
       "    </tr>\n",
       "    <tr>\n",
       "      <th>2</th>\n",
       "      <td>6.4</td>\n",
       "      <td>0.456</td>\n",
       "      <td>0.761</td>\n",
       "      <td>15.8</td>\n",
       "    </tr>\n",
       "    <tr>\n",
       "      <th>3</th>\n",
       "      <td>6.2</td>\n",
       "      <td>0.416</td>\n",
       "      <td>0.651</td>\n",
       "      <td>8.6</td>\n",
       "    </tr>\n",
       "    <tr>\n",
       "      <th>4</th>\n",
       "      <td>6.9</td>\n",
       "      <td>0.449</td>\n",
       "      <td>0.900</td>\n",
       "      <td>23.2</td>\n",
       "    </tr>\n",
       "    <tr>\n",
       "      <th>5</th>\n",
       "      <td>6.4</td>\n",
       "      <td>0.431</td>\n",
       "      <td>0.780</td>\n",
       "      <td>27.4</td>\n",
       "    </tr>\n",
       "    <tr>\n",
       "      <th>6</th>\n",
       "      <td>6.3</td>\n",
       "      <td>0.487</td>\n",
       "      <td>0.771</td>\n",
       "      <td>9.3</td>\n",
       "    </tr>\n",
       "    <tr>\n",
       "      <th>7</th>\n",
       "      <td>6.8</td>\n",
       "      <td>0.469</td>\n",
       "      <td>0.750</td>\n",
       "      <td>16.0</td>\n",
       "    </tr>\n",
       "    <tr>\n",
       "      <th>8</th>\n",
       "      <td>6.9</td>\n",
       "      <td>0.435</td>\n",
       "      <td>0.818</td>\n",
       "      <td>4.7</td>\n",
       "    </tr>\n",
       "    <tr>\n",
       "      <th>9</th>\n",
       "      <td>6.7</td>\n",
       "      <td>0.480</td>\n",
       "      <td>0.825</td>\n",
       "      <td>12.5</td>\n",
       "    </tr>\n",
       "    <tr>\n",
       "      <th>10</th>\n",
       "      <td>6.9</td>\n",
       "      <td>0.516</td>\n",
       "      <td>0.632</td>\n",
       "      <td>20.1</td>\n",
       "    </tr>\n",
       "    <tr>\n",
       "      <th>11</th>\n",
       "      <td>6.9</td>\n",
       "      <td>0.493</td>\n",
       "      <td>0.757</td>\n",
       "      <td>9.1</td>\n",
       "    </tr>\n",
       "    <tr>\n",
       "      <th>12</th>\n",
       "      <td>6.3</td>\n",
       "      <td>0.374</td>\n",
       "      <td>0.709</td>\n",
       "      <td>8.1</td>\n",
       "    </tr>\n",
       "    <tr>\n",
       "      <th>13</th>\n",
       "      <td>6.1</td>\n",
       "      <td>0.424</td>\n",
       "      <td>0.782</td>\n",
       "      <td>8.6</td>\n",
       "    </tr>\n",
       "    <tr>\n",
       "      <th>14</th>\n",
       "      <td>6.2</td>\n",
       "      <td>0.441</td>\n",
       "      <td>0.775</td>\n",
       "      <td>20.3</td>\n",
       "    </tr>\n",
       "    <tr>\n",
       "      <th>15</th>\n",
       "      <td>6.8</td>\n",
       "      <td>0.503</td>\n",
       "      <td>0.880</td>\n",
       "      <td>25.0</td>\n",
       "    </tr>\n",
       "    <tr>\n",
       "      <th>16</th>\n",
       "      <td>6.5</td>\n",
       "      <td>0.503</td>\n",
       "      <td>0.833</td>\n",
       "      <td>19.2</td>\n",
       "    </tr>\n",
       "    <tr>\n",
       "      <th>17</th>\n",
       "      <td>7.6</td>\n",
       "      <td>0.425</td>\n",
       "      <td>0.571</td>\n",
       "      <td>3.3</td>\n",
       "    </tr>\n",
       "    <tr>\n",
       "      <th>18</th>\n",
       "      <td>6.3</td>\n",
       "      <td>0.371</td>\n",
       "      <td>0.816</td>\n",
       "      <td>11.2</td>\n",
       "    </tr>\n",
       "    <tr>\n",
       "      <th>19</th>\n",
       "      <td>7.1</td>\n",
       "      <td>0.504</td>\n",
       "      <td>0.714</td>\n",
       "      <td>10.5</td>\n",
       "    </tr>\n",
       "    <tr>\n",
       "      <th>20</th>\n",
       "      <td>6.8</td>\n",
       "      <td>0.400</td>\n",
       "      <td>0.765</td>\n",
       "      <td>10.1</td>\n",
       "    </tr>\n",
       "    <tr>\n",
       "      <th>21</th>\n",
       "      <td>7.3</td>\n",
       "      <td>0.482</td>\n",
       "      <td>0.655</td>\n",
       "      <td>7.2</td>\n",
       "    </tr>\n",
       "    <tr>\n",
       "      <th>22</th>\n",
       "      <td>6.4</td>\n",
       "      <td>0.475</td>\n",
       "      <td>0.244</td>\n",
       "      <td>13.6</td>\n",
       "    </tr>\n",
       "    <tr>\n",
       "      <th>23</th>\n",
       "      <td>6.8</td>\n",
       "      <td>0.428</td>\n",
       "      <td>0.728</td>\n",
       "      <td>9.0</td>\n",
       "    </tr>\n",
       "    <tr>\n",
       "      <th>24</th>\n",
       "      <td>7.2</td>\n",
       "      <td>0.559</td>\n",
       "      <td>0.721</td>\n",
       "      <td>24.6</td>\n",
       "    </tr>\n",
       "    <tr>\n",
       "      <th>25</th>\n",
       "      <td>6.4</td>\n",
       "      <td>0.441</td>\n",
       "      <td>0.757</td>\n",
       "      <td>12.6</td>\n",
       "    </tr>\n",
       "    <tr>\n",
       "      <th>26</th>\n",
       "      <td>6.6</td>\n",
       "      <td>0.492</td>\n",
       "      <td>0.747</td>\n",
       "      <td>5.6</td>\n",
       "    </tr>\n",
       "    <tr>\n",
       "      <th>27</th>\n",
       "      <td>6.8</td>\n",
       "      <td>0.402</td>\n",
       "      <td>0.739</td>\n",
       "      <td>8.7</td>\n",
       "    </tr>\n",
       "    <tr>\n",
       "      <th>28</th>\n",
       "      <td>6.1</td>\n",
       "      <td>0.415</td>\n",
       "      <td>0.713</td>\n",
       "      <td>7.7</td>\n",
       "    </tr>\n",
       "    <tr>\n",
       "      <th>29</th>\n",
       "      <td>6.5</td>\n",
       "      <td>0.492</td>\n",
       "      <td>0.742</td>\n",
       "      <td>24.1</td>\n",
       "    </tr>\n",
       "    <tr>\n",
       "      <th>30</th>\n",
       "      <td>6.4</td>\n",
       "      <td>0.484</td>\n",
       "      <td>0.861</td>\n",
       "      <td>11.7</td>\n",
       "    </tr>\n",
       "    <tr>\n",
       "      <th>31</th>\n",
       "      <td>6.0</td>\n",
       "      <td>0.387</td>\n",
       "      <td>0.721</td>\n",
       "      <td>7.7</td>\n",
       "    </tr>\n",
       "    <tr>\n",
       "      <th>32</th>\n",
       "      <td>6.0</td>\n",
       "      <td>0.436</td>\n",
       "      <td>0.785</td>\n",
       "      <td>9.6</td>\n",
       "    </tr>\n",
       "    <tr>\n",
       "      <th>33</th>\n",
       "      <td>7.3</td>\n",
       "      <td>0.482</td>\n",
       "      <td>0.655</td>\n",
       "      <td>7.2</td>\n",
       "    </tr>\n",
       "    <tr>\n",
       "      <th>34</th>\n",
       "      <td>6.1</td>\n",
       "      <td>0.340</td>\n",
       "      <td>0.821</td>\n",
       "      <td>12.3</td>\n",
       "    </tr>\n",
       "    <tr>\n",
       "      <th>35</th>\n",
       "      <td>6.7</td>\n",
       "      <td>0.516</td>\n",
       "      <td>0.728</td>\n",
       "      <td>8.9</td>\n",
       "    </tr>\n",
       "    <tr>\n",
       "      <th>36</th>\n",
       "      <td>6.4</td>\n",
       "      <td>0.475</td>\n",
       "      <td>0.846</td>\n",
       "      <td>13.6</td>\n",
       "    </tr>\n",
       "    <tr>\n",
       "      <th>37</th>\n",
       "      <td>5.8</td>\n",
       "      <td>0.412</td>\n",
       "      <td>0.813</td>\n",
       "      <td>11.2</td>\n",
       "    </tr>\n",
       "    <tr>\n",
       "      <th>38</th>\n",
       "      <td>6.9</td>\n",
       "      <td>0.411</td>\n",
       "      <td>0.595</td>\n",
       "      <td>2.8</td>\n",
       "    </tr>\n",
       "    <tr>\n",
       "      <th>39</th>\n",
       "      <td>7.0</td>\n",
       "      <td>0.407</td>\n",
       "      <td>0.573</td>\n",
       "      <td>3.2</td>\n",
       "    </tr>\n",
       "    <tr>\n",
       "      <th>40</th>\n",
       "      <td>7.3</td>\n",
       "      <td>0.445</td>\n",
       "      <td>0.726</td>\n",
       "      <td>9.4</td>\n",
       "    </tr>\n",
       "    <tr>\n",
       "      <th>41</th>\n",
       "      <td>5.9</td>\n",
       "      <td>0.291</td>\n",
       "      <td>0.707</td>\n",
       "      <td>11.9</td>\n",
       "    </tr>\n",
       "    <tr>\n",
       "      <th>42</th>\n",
       "      <td>6.2</td>\n",
       "      <td>0.449</td>\n",
       "      <td>0.804</td>\n",
       "      <td>15.4</td>\n",
       "    </tr>\n",
       "    <tr>\n",
       "      <th>43</th>\n",
       "      <td>6.8</td>\n",
       "      <td>0.546</td>\n",
       "      <td>0.784</td>\n",
       "      <td>7.4</td>\n",
       "    </tr>\n",
       "    <tr>\n",
       "      <th>44</th>\n",
       "      <td>7.0</td>\n",
       "      <td>0.480</td>\n",
       "      <td>0.744</td>\n",
       "      <td>18.9</td>\n",
       "    </tr>\n",
       "    <tr>\n",
       "      <th>45</th>\n",
       "      <td>5.9</td>\n",
       "      <td>0.359</td>\n",
       "      <td>0.839</td>\n",
       "      <td>7.9</td>\n",
       "    </tr>\n",
       "    <tr>\n",
       "      <th>46</th>\n",
       "      <td>6.1</td>\n",
       "      <td>0.528</td>\n",
       "      <td>0.790</td>\n",
       "      <td>12.2</td>\n",
       "    </tr>\n",
       "    <tr>\n",
       "      <th>47</th>\n",
       "      <td>5.7</td>\n",
       "      <td>0.352</td>\n",
       "      <td>0.701</td>\n",
       "      <td>11.0</td>\n",
       "    </tr>\n",
       "    <tr>\n",
       "      <th>48</th>\n",
       "      <td>7.1</td>\n",
       "      <td>0.414</td>\n",
       "      <td>0.778</td>\n",
       "      <td>2.8</td>\n",
       "    </tr>\n",
       "    <tr>\n",
       "      <th>49</th>\n",
       "      <td>5.8</td>\n",
       "      <td>0.425</td>\n",
       "      <td>0.872</td>\n",
       "      <td>11.8</td>\n",
       "    </tr>\n",
       "    <tr>\n",
       "      <th>50</th>\n",
       "      <td>7.4</td>\n",
       "      <td>0.599</td>\n",
       "      <td>0.713</td>\n",
       "      <td>17.1</td>\n",
       "    </tr>\n",
       "    <tr>\n",
       "      <th>51</th>\n",
       "      <td>6.8</td>\n",
       "      <td>0.482</td>\n",
       "      <td>0.701</td>\n",
       "      <td>11.6</td>\n",
       "    </tr>\n",
       "    <tr>\n",
       "      <th>52</th>\n",
       "      <td>6.8</td>\n",
       "      <td>0.457</td>\n",
       "      <td>0.734</td>\n",
       "      <td>5.8</td>\n",
       "    </tr>\n",
       "    <tr>\n",
       "      <th>53</th>\n",
       "      <td>7.0</td>\n",
       "      <td>0.435</td>\n",
       "      <td>0.764</td>\n",
       "      <td>8.3</td>\n",
       "    </tr>\n",
       "  </tbody>\n",
       "</table>\n",
       "</div>"
      ],
      "text/plain": [
       "    AlturaPies  TirosCampoExito  TirosLibreExito  PromedioAnotadosJuego\n",
       "0          6.8            0.442            0.672                    9.2\n",
       "1          6.3            0.435            0.797                   11.7\n",
       "2          6.4            0.456            0.761                   15.8\n",
       "3          6.2            0.416            0.651                    8.6\n",
       "4          6.9            0.449            0.900                   23.2\n",
       "5          6.4            0.431            0.780                   27.4\n",
       "6          6.3            0.487            0.771                    9.3\n",
       "7          6.8            0.469            0.750                   16.0\n",
       "8          6.9            0.435            0.818                    4.7\n",
       "9          6.7            0.480            0.825                   12.5\n",
       "10         6.9            0.516            0.632                   20.1\n",
       "11         6.9            0.493            0.757                    9.1\n",
       "12         6.3            0.374            0.709                    8.1\n",
       "13         6.1            0.424            0.782                    8.6\n",
       "14         6.2            0.441            0.775                   20.3\n",
       "15         6.8            0.503            0.880                   25.0\n",
       "16         6.5            0.503            0.833                   19.2\n",
       "17         7.6            0.425            0.571                    3.3\n",
       "18         6.3            0.371            0.816                   11.2\n",
       "19         7.1            0.504            0.714                   10.5\n",
       "20         6.8            0.400            0.765                   10.1\n",
       "21         7.3            0.482            0.655                    7.2\n",
       "22         6.4            0.475            0.244                   13.6\n",
       "23         6.8            0.428            0.728                    9.0\n",
       "24         7.2            0.559            0.721                   24.6\n",
       "25         6.4            0.441            0.757                   12.6\n",
       "26         6.6            0.492            0.747                    5.6\n",
       "27         6.8            0.402            0.739                    8.7\n",
       "28         6.1            0.415            0.713                    7.7\n",
       "29         6.5            0.492            0.742                   24.1\n",
       "30         6.4            0.484            0.861                   11.7\n",
       "31         6.0            0.387            0.721                    7.7\n",
       "32         6.0            0.436            0.785                    9.6\n",
       "33         7.3            0.482            0.655                    7.2\n",
       "34         6.1            0.340            0.821                   12.3\n",
       "35         6.7            0.516            0.728                    8.9\n",
       "36         6.4            0.475            0.846                   13.6\n",
       "37         5.8            0.412            0.813                   11.2\n",
       "38         6.9            0.411            0.595                    2.8\n",
       "39         7.0            0.407            0.573                    3.2\n",
       "40         7.3            0.445            0.726                    9.4\n",
       "41         5.9            0.291            0.707                   11.9\n",
       "42         6.2            0.449            0.804                   15.4\n",
       "43         6.8            0.546            0.784                    7.4\n",
       "44         7.0            0.480            0.744                   18.9\n",
       "45         5.9            0.359            0.839                    7.9\n",
       "46         6.1            0.528            0.790                   12.2\n",
       "47         5.7            0.352            0.701                   11.0\n",
       "48         7.1            0.414            0.778                    2.8\n",
       "49         5.8            0.425            0.872                   11.8\n",
       "50         7.4            0.599            0.713                   17.1\n",
       "51         6.8            0.482            0.701                   11.6\n",
       "52         6.8            0.457            0.734                    5.8\n",
       "53         7.0            0.435            0.764                    8.3"
      ]
     },
     "execution_count": 50,
     "metadata": {
     },
     "output_type": "execute_result"
    }
   ],
   "source": [
    "Baske2"
   ]
  },
  {
   "cell_type": "code",
   "execution_count": 29,
   "metadata": {
    "collapsed": false
   },
   "outputs": [
   ],
   "source": [
    "y=Baske.PromedioAnotadosJuego\n",
    "x=Baske.TirosCampoExito"
   ]
  },
  {
   "cell_type": "code",
   "execution_count": 0,
   "metadata": {
    "collapsed": false
   },
   "outputs": [
   ],
   "source": [
    "# Separando el conjunto de datos en 2 grupos entrenamient (train) y prueba (test)\n",
    "from sklearn.model_selection import train_test_split\n",
    "x_train, x_test, y_train, y_test = train_test_split(x_input, y, test_size=0.80) # el 0.30 es el porcentje de separacion"
   ]
  },
  {
   "cell_type": "code",
   "execution_count": 0,
   "metadata": {
    "collapsed": false
   },
   "outputs": [
   ],
   "source": [
    "#Definimos Modelo (regresion logistica es un modelo de clasificacion que trabaja con variables categoricas)\n",
    "from sklearn.linear_model import LogisticRegression\n",
    "#entrenamos el modelo\n",
    "model = LogisticRegression()\n",
    "model.fit(x_train,y_train)"
   ]
  },
  {
   "cell_type": "code",
   "execution_count": 0,
   "metadata": {
    "collapsed": false
   },
   "outputs": [
   ],
   "source": [
    "#realizamos la prediccion sobre el conjunto de entrenamien\n",
    "predictions1= model.predict (x,train)\n",
    "#predictios\n",
    "predictions1"
   ]
  },
  {
   "cell_type": "code",
   "execution_count": 30,
   "metadata": {
    "collapsed": false
   },
   "outputs": [
    {
     "name": "stdout",
     "output_type": "stream",
     "text": [
      "La pendiente de la linea 35.34.\n",
      "El intercepto -4.08.\n",
      "El mejor ajuste de regresion es 35.34x + -4.08.\n"
     ]
    }
   ],
   "source": [
    "m, b = np.polyfit(x,y,1) \n",
    "print ('La pendiente de la linea {:.2f}.'.format(m))\n",
    "print ('El intercepto {:.2f}.'.format(b))\n",
    "print ('El mejor ajuste de regresion es {:.2f}x + {:.2f}.'.format(m,b))"
   ]
  },
  {
   "cell_type": "code",
   "execution_count": 39,
   "metadata": {
    "collapsed": false
   },
   "outputs": [
   ],
   "source": [
    "y_mean = y.mean()\n",
    "x_mean = x.mean()"
   ]
  },
  {
   "cell_type": "code",
   "execution_count": 43,
   "metadata": {
    "collapsed": false
   },
   "outputs": [
    {
     "data": {
      "text/plain": [
       "<matplotlib.legend.Legend at 0x7f7388563eb8>"
      ]
     },
     "execution_count": 43,
     "metadata": {
     },
     "output_type": "execute_result"
    },
    {
     "data": {
      "image/png": "[encoded data removed]",
      "text/plain": [
       "<Figure size 1440x720 with 1 Axes>"
      ]
     },
     "execution_count": 43,
     "metadata": {
      "image/png": {
       "height": 613,
       "width": 1180
      }
     },
     "output_type": "execute_result"
    }
   ],
   "source": [
    "%matplotlib inline\n",
    "plt.figure(figsize=(20,10))\n",
    "plt.plot(x,y, 'o', markersize = 14, label = \" porcentaje de tiros de campo exitosos\")\n",
    "plt.plot(x_mean,y_mean, '*', markersize = 30, color = \"r\")\n",
    "plt.plot(x, m*x + b, '-', label = 'Regresion lineal simple', linewidth = 4)\n",
    "plt.ylabel('Valor medio', fontsize = 20)\n",
    "plt.xlabel('Número de tiros', fontsize = 30)\n",
    "plt.xticks(fontsize = 15)\n",
    "plt.yticks(fontsize = 15)\n",
    "plt.legend(loc = 'upper right', fontsize = 20)"
   ]
  },
  {
   "cell_type": "code",
   "execution_count": 44,
   "metadata": {
    "collapsed": false
   },
   "outputs": [
   ],
   "source": [
    "def predict(query):\n",
    "    if query >= 1:\n",
    "        predict = m * query + b\n",
    "        return predict\n",
    "    else:\n",
    "        print (\"Debe tener por lo menos un tiros de campo exitosos.\")"
   ]
  },
  {
   "cell_type": "code",
   "execution_count": 45,
   "metadata": {
    "collapsed": false
   },
   "outputs": [
    {
     "data": {
      "text/plain": [
       "207.9499776244706"
      ]
     },
     "execution_count": 45,
     "metadata": {
     },
     "output_type": "execute_result"
    }
   ],
   "source": [
    "predict(6)"
   ]
  },
  {
   "cell_type": "code",
   "execution_count": 46,
   "metadata": {
    "collapsed": false
   },
   "outputs": [
   ],
   "source": [
    "from sklearn import linear_model\n",
    "reg = linear_model.LinearRegression()"
   ]
  },
  {
   "cell_type": "code",
   "execution_count": 51,
   "metadata": {
    "collapsed": false
   },
   "outputs": [
    {
     "data": {
      "text/plain": [
       "LinearRegression(copy_X=True, fit_intercept=True, n_jobs=None, normalize=False)"
      ]
     },
     "execution_count": 51,
     "metadata": {
     },
     "output_type": "execute_result"
    }
   ],
   "source": [
    "reg.fit(Baske2,y)"
   ]
  },
  {
   "cell_type": "code",
   "execution_count": 52,
   "metadata": {
    "collapsed": false
   },
   "outputs": [
    {
     "data": {
      "text/plain": [
       "array([-2.15891176e-15,  2.80886425e-14,  1.24206201e-15,  1.00000000e+00])"
      ]
     },
     "execution_count": 52,
     "metadata": {
     },
     "output_type": "execute_result"
    }
   ],
   "source": [
    "reg.coef_"
   ]
  },
  {
   "cell_type": "code",
   "execution_count": 0,
   "metadata": {
    "collapsed": false
   },
   "outputs": [
   ],
   "source": [
   ]
  },
  {
   "cell_type": "code",
   "execution_count": 0,
   "metadata": {
    "collapsed": false
   },
   "outputs": [
   ],
   "source": [
   ]
  }
 ],
 "metadata": {
  "kernelspec": {
   "display_name": "Python 3 (system-wide)",
   "language": "python",
   "metadata": {
    "cocalc": {
     "description": "Python 3 programming language",
     "priority": 100,
     "url": "https://www.python.org/"
    }
   },
   "name": "python3"
  },
  "language_info": {
   "codemirror_mode": {
    "name": "ipython",
    "version": 3
   },
   "file_extension": ".py",
   "mimetype": "text/x-python",
   "name": "python",
   "nbconvert_exporter": "python",
   "pygments_lexer": "ipython3",
   "version": "3.6.8"
  }
 },
 "nbformat": 4,
 "nbformat_minor": 0
}
